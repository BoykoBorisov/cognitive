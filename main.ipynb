{
 "cells": [
  {
   "cell_type": "code",
   "execution_count": 1,
   "metadata": {
    "colab": {
     "base_uri": "https://localhost:8080/"
    },
    "executionInfo": {
     "elapsed": 260,
     "status": "ok",
     "timestamp": 1651336631401,
     "user": {
      "displayName": "Boyko Borisov",
      "userId": "07434649271191863533"
     },
     "user_tz": -60
    },
    "id": "x8kDBBPy5AYM",
    "outputId": "6bd302fe-47ad-4fbd-b7ff-f34cc58a70df"
   },
   "outputs": [
    {
     "name": "stdout",
     "output_type": "stream",
     "text": [
      "GPU 0: Tesla K80 (UUID: GPU-9d8cf0df-03dd-6020-4269-62b9a66c4d5b)\n"
     ]
    }
   ],
   "source": [
    "!nvidia-smi -L"
   ]
  },
  {
   "cell_type": "code",
   "execution_count": null,
   "metadata": {},
   "outputs": [],
   "source": []
  },
  {
   "cell_type": "code",
   "execution_count": 2,
   "metadata": {
    "executionInfo": {
     "elapsed": 2,
     "status": "ok",
     "timestamp": 1651336631401,
     "user": {
      "displayName": "Boyko Borisov",
      "userId": "07434649271191863533"
     },
     "user_tz": -60
    },
    "id": "8cmSHMZvLuLz"
   },
   "outputs": [],
   "source": [
    "dataset_path = \"/home/jupyter/cognitive/tiny-imagenet-200\"\n",
    "dataset_training_path = \"/home/jupyter/cognitive/tiny-imagenet-200/train\"\n",
    "dataset_val_path = \"/home/jupyter/cognitive/tiny-imagenet-200/val\"\n",
    "dataset_stats = \"/home/jupyter/cognitive/normalise_params.txt\"\n",
    "dataset_id_idx = \"/home/jupyter/cognitive/tiny-imagenet-200/wnids.txt\""
   ]
  },
  {
   "cell_type": "code",
   "execution_count": 3,
   "metadata": {
    "colab": {
     "base_uri": "https://localhost:8080/"
    },
    "executionInfo": {
     "elapsed": 2933,
     "status": "ok",
     "timestamp": 1651336634332,
     "user": {
      "displayName": "Boyko Borisov",
      "userId": "07434649271191863533"
     },
     "user_tz": -60
    },
    "id": "xLkx2_RfrTWR",
    "outputId": "db5573c4-c648-4396-f76f-18db21a9397c"
   },
   "outputs": [
    {
     "name": "stdout",
     "output_type": "stream",
     "text": [
      "Requirement already satisfied: efficientnet-pytorch in /opt/conda/lib/python3.7/site-packages (0.7.1)\n",
      "Requirement already satisfied: torch in /opt/conda/lib/python3.7/site-packages (from efficientnet-pytorch) (1.10.1)\n",
      "Requirement already satisfied: typing-extensions in /opt/conda/lib/python3.7/site-packages (from torch->efficientnet-pytorch) (4.1.1)\n"
     ]
    }
   ],
   "source": [
    "!pip install efficientnet-pytorch"
   ]
  },
  {
   "cell_type": "code",
   "execution_count": 4,
   "metadata": {
    "colab": {
     "base_uri": "https://localhost:8080/"
    },
    "executionInfo": {
     "elapsed": 1369,
     "status": "ok",
     "timestamp": 1651336635695,
     "user": {
      "displayName": "Boyko Borisov",
      "userId": "07434649271191863533"
     },
     "user_tz": -60
    },
    "id": "o1uwv_uqLvu3",
    "outputId": "138fedb4-5af4-48db-e29f-3ce37b4ca6ce"
   },
   "outputs": [],
   "source": [
    "# from google.colab import drive\n",
    "# drive.mount('/content/drive')\n",
    "\n",
    "# import sys\n",
    "\n",
    "# sys.path.append(\"/content/drive/MyDrive/cognitive_robotics/\")"
   ]
  },
  {
   "cell_type": "code",
   "execution_count": 5,
   "metadata": {
    "colab": {
     "base_uri": "https://localhost:8080/"
    },
    "executionInfo": {
     "elapsed": 986,
     "status": "ok",
     "timestamp": 1651336636679,
     "user": {
      "displayName": "Boyko Borisov",
      "userId": "07434649271191863533"
     },
     "user_tz": -60
    },
    "id": "kGdwHoDUpRuq",
    "outputId": "ff93a87e-7e2b-4dcf-c034-51130b62c47b"
   },
   "outputs": [
    {
     "name": "stdout",
     "output_type": "stream",
     "text": [
      "Running on: cuda\n"
     ]
    }
   ],
   "source": [
    "import torch\n",
    "import torch.nn as nn\n",
    "import torchvision.transforms as transforms\n",
    "import json\n",
    "import random\n",
    "\n",
    "import numpy as np\n",
    "\n",
    "device = torch.device('cuda' if torch.cuda.is_available() else 'cpu')\n",
    "print(f\"Running on: {device}\")"
   ]
  },
  {
   "cell_type": "code",
   "execution_count": 6,
   "metadata": {
    "colab": {
     "base_uri": "https://localhost:8080/"
    },
    "executionInfo": {
     "elapsed": 6,
     "status": "ok",
     "timestamp": 1651336636680,
     "user": {
      "displayName": "Boyko Borisov",
      "userId": "07434649271191863533"
     },
     "user_tz": -60
    },
    "id": "Gx9SMaHnpRur",
    "outputId": "15b7881d-66e4-434c-c233-cfd43bcc8210"
   },
   "outputs": [
    {
     "name": "stdout",
     "output_type": "stream",
     "text": [
      "<function get_id_to_idx at 0x7f8b477c14d0>\n"
     ]
    }
   ],
   "source": [
    "from TinyImageNetDataset import TinyImageNetDataset\n",
    "from model import get_efficientnet\n",
    "from utils import save_checkpoint, log\n",
    "from data_transformations import get_data_transformations\n",
    "from train_val import train_val"
   ]
  },
  {
   "cell_type": "code",
   "execution_count": 7,
   "metadata": {
    "executionInfo": {
     "elapsed": 2,
     "status": "ok",
     "timestamp": 1651336636680,
     "user": {
      "displayName": "Boyko Borisov",
      "userId": "07434649271191863533"
     },
     "user_tz": -60
    },
    "id": "Winem19kpRur"
   },
   "outputs": [],
   "source": [
    "NUM_EXPERIMENT_REPETITIONS = 3"
   ]
  },
  {
   "cell_type": "code",
   "execution_count": 8,
   "metadata": {
    "executionInfo": {
     "elapsed": 2,
     "status": "ok",
     "timestamp": 1651336636680,
     "user": {
      "displayName": "Boyko Borisov",
      "userId": "07434649271191863533"
     },
     "user_tz": -60
    },
    "id": "ifuAexlFpRur"
   },
   "outputs": [],
   "source": [
    "def experiment(model_type, epoch_count, learning_rate, dropout_rate, pretrained,\n",
    "               warm_up, crop, horizontal_flip_rate, mixup, repetitions =  NUM_EXPERIMENT_REPETITIONS\n",
    "              ):\n",
    "  \"\"\"\n",
    "    model_type: efficientnet size used\n",
    "    epoch_count: number of epochs spent training \n",
    "    learning rate: learning rate in gradient descent\n",
    "    dropout_rate: dropout rate of the model\n",
    "    pretrained: is the model pretrained on ImageNet\n",
    "    warm_up: number of iterations when warm up will be applied\n",
    "    crop: should perform central crop\n",
    "    flip: rate of flipping images horizontally\n",
    "    mixup: how often should mixup be applied\n",
    "  \"\"\"\n",
    "  means = np.zeros((repetitions, 2))\n",
    "  for repetition in range(repetitions):\n",
    "    torch.manual_seed(repetition)\n",
    "    random.seed(repetition)\n",
    "    model = get_efficientnet(model_type, pretrained, dropout_rate)\n",
    "    with open(dataset_stats) as fp:\n",
    "      stats = json.load(fp=fp)\n",
    "\n",
    "    dataset_train = TinyImageNetDataset(\n",
    "      dataset_training_path, \n",
    "      dataset_id_idx, \n",
    "      get_data_transformations(stats),\n",
    "      True\n",
    "    )\n",
    "    print(dataset_train.__len__())\n",
    "    dataset_val = TinyImageNetDataset(\n",
    "      dataset_val_path, \n",
    "      dataset_id_idx,\n",
    "      get_data_transformations(stats),\n",
    "      False\n",
    "    )\n",
    "    print(dataset_val.__len__())\n",
    "\n",
    "    has_augment = True if crop or horizontal_flip_rate > 0 else False\n",
    "\n",
    "    dataloader_train = torch.utils.data.DataLoader(dataset_train, batch_size=40, shuffle=True, pin_memory=True, num_workers=6)\n",
    "    dataloader_val = torch.utils.data.DataLoader(dataset_val, batch_size=48, shuffle=False, pin_memory=False, num_workers=4)\n",
    "    model.to(device)\n",
    "    print(\"Starting training\")\n",
    "    means[repetition] = train_val(model, model_type, dataloader_train, dataloader_val, learning_rate, epoch_count, \n",
    "              dropout_rate, pretrained, warm_up, has_augment, mixup)\n",
    "  print(\"Mean: \", np.mean(means, 1))\n",
    "  print(\"Std: \", np.std(means, axis=1))\n"
   ]
  },
  {
   "cell_type": "code",
   "execution_count": 9,
   "metadata": {},
   "outputs": [],
   "source": [
    "# import pandas as pd\n",
    "# import os\n",
    "\n",
    "# val_data = pd.read_csv(f'{dataset_val_path}/val_annotations.txt', \n",
    "#                        sep='\\t', \n",
    "#                        header=None, \n",
    "#                        names=['File', 'Class', 'X', 'Y', 'H', 'W'])\n",
    "\n",
    "# val_data.head()\n",
    "\n",
    "# # Create separate validation subfolders for the validation images based on\n",
    "# # their labels indicated in the val_annotations txt file\n",
    "# val_img_dir = os.path.join(dataset_val_path, 'images')\n",
    "\n",
    "# # Open and read val annotations text file\n",
    "# fp = open(os.path.join(dataset_val_path, 'val_annotations.txt'), 'r')\n",
    "# data = fp.readlines()\n",
    "\n",
    "# # Create dictionary to store img filename (word 0) and corresponding\n",
    "# # label (word 1) for every line in the txt file (as key value pair)\n",
    "# val_img_dict = {}\n",
    "# for line in data:\n",
    "#     words = line.split('\\t')\n",
    "#     val_img_dict[words[0]] = words[1]\n",
    "# fp.close()\n",
    "\n",
    "# # Display first 10 entries of resulting val_img_dict dictionary\n",
    "# {k: val_img_dict[k] for k in list(val_img_dict)[:10]}\n",
    "\n",
    "# # and move images into the respective folders\n",
    "# for img, folder in val_img_dict.items():\n",
    "#     newpath = (os.path.join(val_img_dir, folder))\n",
    "#     if not os.path.exists(newpath):\n",
    "#         os.makedirs(newpath)\n",
    "#     if os.path.exists(os.path.join(val_img_dir, img)):\n",
    "#         os.rename(os.path.join(val_img_dir, img), os.path.join(newpath, img))"
   ]
  },
  {
   "cell_type": "markdown",
   "metadata": {
    "id": "q8wtUoF_pRus"
   },
   "source": [
    "Determine optimal learning rate for EfficientNet-B1"
   ]
  },
  {
   "cell_type": "code",
   "execution_count": null,
   "metadata": {
    "colab": {
     "base_uri": "https://localhost:8080/",
     "height": 1000
    },
    "executionInfo": {
     "elapsed": 10113,
     "status": "error",
     "timestamp": 1651336646791,
     "user": {
      "displayName": "Boyko Borisov",
      "userId": "07434649271191863533"
     },
     "user_tz": -60
    },
    "id": "vJgKD33hpRus",
    "outputId": "b45613b0-8330-451f-e6b6-b6ddc6d40a81"
   },
   "outputs": [
    {
     "name": "stdout",
     "output_type": "stream",
     "text": [
      "Loaded pretrained weights for efficientnet-b1\n",
      "/home/jupyter/cognitive/tiny-imagenet-200/train\n",
      "200\n",
      "100000\n",
      "/home/jupyter/cognitive/tiny-imagenet-200/val/images\n",
      "200\n",
      "10000\n"
     ]
    },
    {
     "name": "stderr",
     "output_type": "stream",
     "text": [
      "/opt/conda/lib/python3.7/site-packages/torch/utils/data/dataloader.py:481: UserWarning: This DataLoader will create 6 worker processes in total. Our suggested max number of worker in current system is 4, which is smaller than what this DataLoader is going to create. Please be aware that excessive worker creation might get DataLoader running slow or even freeze, lower the worker number to avoid potential slowness/freeze if necessary.\n",
      "  cpuset_checked))\n"
     ]
    },
    {
     "name": "stdout",
     "output_type": "stream",
     "text": [
      "Starting training\n",
      "Running on cuda\n",
      "Epoch: 0\n"
     ]
    },
    {
     "name": "stderr",
     "output_type": "stream",
     "text": [
      "Iterations, training: 100%|██████████| 2778/2778 [1:04:07<00:00,  1.38s/it]\n"
     ]
    },
    {
     "name": "stdout",
     "output_type": "stream",
     "text": [
      "\n",
      "Total loss: 16540.20763349533\n"
     ]
    },
    {
     "name": "stderr",
     "output_type": "stream",
     "text": [
      "Iterations, validation: 100%|██████████| 209/209 [01:46<00:00,  1.96it/s]\n"
     ]
    },
    {
     "name": "stdout",
     "output_type": "stream",
     "text": [
      "Loss: 2220.3641216754913\n",
      "Accuracy top 1: 0.01\n",
      "Accuracy top 5: 0.03\n",
      "Epoch: 1\n"
     ]
    },
    {
     "name": "stderr",
     "output_type": "stream",
     "text": [
      "Iterations, training: 100%|██████████| 2778/2778 [1:04:07<00:00,  1.38s/it]\n"
     ]
    },
    {
     "name": "stdout",
     "output_type": "stream",
     "text": [
      "\n",
      "Total loss: 15479.553722381592\n"
     ]
    },
    {
     "name": "stderr",
     "output_type": "stream",
     "text": [
      "Iterations, validation: 100%|██████████| 209/209 [01:46<00:00,  1.95it/s]\n"
     ]
    },
    {
     "name": "stdout",
     "output_type": "stream",
     "text": [
      "Loss: 1638.6440769433975\n",
      "Accuracy top 1: 0.01\n",
      "Accuracy top 5: 0.06\n",
      "Epoch: 2\n"
     ]
    },
    {
     "name": "stderr",
     "output_type": "stream",
     "text": [
      "Iterations, training: 100%|██████████| 2778/2778 [1:04:03<00:00,  1.38s/it]\n"
     ]
    },
    {
     "name": "stdout",
     "output_type": "stream",
     "text": [
      "\n",
      "Total loss: 12801.616037607193\n"
     ]
    },
    {
     "name": "stderr",
     "output_type": "stream",
     "text": [
      "Iterations, validation: 100%|██████████| 209/209 [01:46<00:00,  1.95it/s]\n"
     ]
    },
    {
     "name": "stdout",
     "output_type": "stream",
     "text": [
      "Loss: 1295.6159150004387\n",
      "Accuracy top 1: 0.05\n",
      "Accuracy top 5: 0.17\n",
      "Epoch: 4\n"
     ]
    },
    {
     "name": "stderr",
     "output_type": "stream",
     "text": [
      "Iterations, training: 100%|██████████| 2778/2778 [1:04:01<00:00,  1.38s/it]\n"
     ]
    },
    {
     "name": "stdout",
     "output_type": "stream",
     "text": [
      "\n",
      "Total loss: 12092.587515592575\n"
     ]
    },
    {
     "name": "stderr",
     "output_type": "stream",
     "text": [
      "Iterations, validation: 100%|██████████| 209/209 [01:46<00:00,  1.96it/s]\n"
     ]
    },
    {
     "name": "stdout",
     "output_type": "stream",
     "text": [
      "Loss: 1028.3023554086685\n",
      "Accuracy top 1: 0.08\n",
      "Accuracy top 5: 0.23\n",
      "Epoch: 5\n"
     ]
    },
    {
     "name": "stderr",
     "output_type": "stream",
     "text": [
      "Iterations, training: 100%|██████████| 2778/2778 [1:03:58<00:00,  1.38s/it]\n"
     ]
    },
    {
     "name": "stdout",
     "output_type": "stream",
     "text": [
      "\n",
      "Total loss: 10769.528575181961\n"
     ]
    },
    {
     "name": "stderr",
     "output_type": "stream",
     "text": [
      "Iterations, validation: 100%|██████████| 209/209 [01:46<00:00,  1.96it/s]\n"
     ]
    },
    {
     "name": "stdout",
     "output_type": "stream",
     "text": [
      "Loss: 975.2606081366539\n",
      "Accuracy top 1: 0.11\n",
      "Accuracy top 5: 0.33\n",
      "Epoch: 8\n"
     ]
    },
    {
     "name": "stderr",
     "output_type": "stream",
     "text": [
      "Iterations, training: 100%|██████████| 2778/2778 [1:03:59<00:00,  1.38s/it]\n"
     ]
    },
    {
     "name": "stdout",
     "output_type": "stream",
     "text": [
      "\n",
      "Total loss: 10222.83247756958\n"
     ]
    },
    {
     "name": "stderr",
     "output_type": "stream",
     "text": [
      "Iterations, validation: 100%|██████████| 209/209 [01:46<00:00,  1.96it/s]\n"
     ]
    },
    {
     "name": "stdout",
     "output_type": "stream",
     "text": [
      "Loss: 779.5046680569649\n",
      "Accuracy top 1: 0.19\n",
      "Accuracy top 5: 0.43\n",
      "Mean:  [0.3096]\n",
      "Std:  [0.1225]\n",
      "Loaded pretrained weights for efficientnet-b1\n",
      "/home/jupyter/cognitive/tiny-imagenet-200/train\n",
      "200\n",
      "100000\n",
      "/home/jupyter/cognitive/tiny-imagenet-200/val/images\n",
      "200\n",
      "10000\n",
      "Starting training\n",
      "Running on cuda\n",
      "Epoch: 0\n"
     ]
    },
    {
     "name": "stderr",
     "output_type": "stream",
     "text": [
      "Iterations, training: 100%|██████████| 2778/2778 [1:04:16<00:00,  1.39s/it]\n"
     ]
    },
    {
     "name": "stdout",
     "output_type": "stream",
     "text": [
      "\n",
      "Total loss: 12885.700936317444\n"
     ]
    },
    {
     "name": "stderr",
     "output_type": "stream",
     "text": [
      "Iterations, validation: 100%|██████████| 209/209 [01:47<00:00,  1.95it/s]\n"
     ]
    },
    {
     "name": "stdout",
     "output_type": "stream",
     "text": [
      "Loss: 1608.7404576539993\n",
      "Accuracy top 1: 0.02\n",
      "Accuracy top 5: 0.11\n",
      "Epoch: 1\n"
     ]
    },
    {
     "name": "stderr",
     "output_type": "stream",
     "text": [
      "Iterations, training: 100%|██████████| 2778/2778 [1:04:16<00:00,  1.39s/it]\n"
     ]
    },
    {
     "name": "stdout",
     "output_type": "stream",
     "text": [
      "\n",
      "Total loss: 11152.45662856102\n"
     ]
    },
    {
     "name": "stderr",
     "output_type": "stream",
     "text": [
      "Iterations, validation: 100%|██████████| 209/209 [01:47<00:00,  1.94it/s]\n"
     ]
    },
    {
     "name": "stdout",
     "output_type": "stream",
     "text": [
      "Loss: 881.0366114377975\n",
      "Accuracy top 1: 0.11\n",
      "Accuracy top 5: 0.3\n",
      "Epoch: 2\n"
     ]
    },
    {
     "name": "stderr",
     "output_type": "stream",
     "text": [
      "Iterations, training: 100%|██████████| 2778/2778 [1:04:16<00:00,  1.39s/it]\n"
     ]
    },
    {
     "name": "stdout",
     "output_type": "stream",
     "text": [
      "\n",
      "Total loss: 10308.592386007309\n"
     ]
    },
    {
     "name": "stderr",
     "output_type": "stream",
     "text": [
      "Iterations, validation: 100%|██████████| 209/209 [01:47<00:00,  1.95it/s]\n"
     ]
    },
    {
     "name": "stdout",
     "output_type": "stream",
     "text": [
      "Loss: 998.4043202400208\n",
      "Accuracy top 1: 0.09\n",
      "Accuracy top 5: 0.27\n",
      "Epoch: 3\n"
     ]
    },
    {
     "name": "stderr",
     "output_type": "stream",
     "text": [
      "Iterations, training: 100%|██████████| 2778/2778 [1:04:15<00:00,  1.39s/it]\n"
     ]
    },
    {
     "name": "stdout",
     "output_type": "stream",
     "text": [
      "\n",
      "Total loss: 9728.715796470642\n"
     ]
    },
    {
     "name": "stderr",
     "output_type": "stream",
     "text": [
      "Iterations, validation: 100%|██████████| 209/209 [01:47<00:00,  1.95it/s]\n"
     ]
    },
    {
     "name": "stdout",
     "output_type": "stream",
     "text": [
      "Loss: 770.5782519578934\n",
      "Accuracy top 1: 0.18\n",
      "Accuracy top 5: 0.43\n",
      "Epoch: 4\n"
     ]
    },
    {
     "name": "stderr",
     "output_type": "stream",
     "text": [
      "Iterations, training:  47%|████▋     | 1299/2778 [30:02<34:09,  1.39s/it] IOPub message rate exceeded.\n",
      "The Jupyter server will temporarily stop sending output\n",
      "to the client in order to avoid crashing it.\n",
      "To change this limit, set the config variable\n",
      "`--ServerApp.iopub_msg_rate_limit`.\n",
      "\n",
      "Current values:\n",
      "ServerApp.iopub_msg_rate_limit=1000.0 (msgs/sec)\n",
      "ServerApp.rate_limit_window=3.0 (secs)\n",
      "\n",
      "Iterations, validation: 100%|██████████| 209/209 [01:47<00:00,  1.95it/s]\n"
     ]
    },
    {
     "name": "stdout",
     "output_type": "stream",
     "text": [
      "Loss: 728.1159482002258\n",
      "Accuracy top 1: 0.21\n",
      "Accuracy top 5: 0.48\n",
      "Epoch: 5\n"
     ]
    },
    {
     "name": "stderr",
     "output_type": "stream",
     "text": [
      "Iterations, training: 100%|██████████| 2778/2778 [1:04:12<00:00,  1.39s/it]\n"
     ]
    },
    {
     "name": "stdout",
     "output_type": "stream",
     "text": [
      "\n",
      "Total loss: 8900.197429418564\n"
     ]
    },
    {
     "name": "stderr",
     "output_type": "stream",
     "text": [
      "Iterations, validation: 100%|██████████| 209/209 [01:47<00:00,  1.95it/s]\n"
     ]
    },
    {
     "name": "stdout",
     "output_type": "stream",
     "text": [
      "Loss: 680.6295394301414\n",
      "Accuracy top 1: 0.25\n",
      "Accuracy top 5: 0.52\n",
      "Epoch: 6\n"
     ]
    },
    {
     "name": "stderr",
     "output_type": "stream",
     "text": [
      "Iterations, training: 100%|██████████| 2778/2778 [1:04:13<00:00,  1.39s/it]\n"
     ]
    },
    {
     "name": "stdout",
     "output_type": "stream",
     "text": [
      "\n",
      "Total loss: 8537.409945130348\n"
     ]
    },
    {
     "name": "stderr",
     "output_type": "stream",
     "text": [
      "Iterations, validation: 100%|██████████| 209/209 [01:47<00:00,  1.95it/s]\n"
     ]
    },
    {
     "name": "stdout",
     "output_type": "stream",
     "text": [
      "Loss: 709.1249195337296\n",
      "Accuracy top 1: 0.24\n",
      "Accuracy top 5: 0.51\n",
      "Epoch: 7\n"
     ]
    },
    {
     "name": "stderr",
     "output_type": "stream",
     "text": [
      "Iterations, training: 100%|██████████| 2778/2778 [1:04:14<00:00,  1.39s/it]\n"
     ]
    },
    {
     "name": "stdout",
     "output_type": "stream",
     "text": [
      "\n",
      "Total loss: 8216.883172512054\n"
     ]
    },
    {
     "name": "stderr",
     "output_type": "stream",
     "text": [
      "Iterations, validation: 100%|██████████| 209/209 [01:47<00:00,  1.95it/s]\n"
     ]
    },
    {
     "name": "stdout",
     "output_type": "stream",
     "text": [
      "Loss: 661.8270815014839\n",
      "Accuracy top 1: 0.27\n",
      "Accuracy top 5: 0.54\n",
      "Epoch: 8\n"
     ]
    },
    {
     "name": "stderr",
     "output_type": "stream",
     "text": [
      "Iterations, training:  62%|██████▏   | 1734/2778 [40:05<24:09,  1.39s/it] "
     ]
    }
   ],
   "source": [
    "# experiment(\"efficientnet-b1\", 30, 0.001, 0.4, True, 0, True, 0.5, 0, 1)\n",
    "experiment(\"efficientnet-b1\", 10, 0.1, 0.4, True, 0, True, 0.5, 0, 1)\n",
    "experiment(\"efficientnet-b1\", 10, 0.01, 0.4, True, 0, True, 0.5, 0, 1)\n"
   ]
  },
  {
   "cell_type": "code",
   "execution_count": null,
   "metadata": {
    "id": "kbDVr0f70KNX"
   },
   "outputs": [
    {
     "name": "stdout",
     "output_type": "stream",
     "text": [
      "Loaded pretrained weights for efficientnet-b0\n",
      "/home/jupyter/cognitive/tiny-imagenet-200/train\n",
      "200\n",
      "100000\n",
      "/home/jupyter/cognitive/tiny-imagenet-200/val/images\n",
      "200\n",
      "10000\n"
     ]
    },
    {
     "name": "stderr",
     "output_type": "stream",
     "text": [
      "/opt/conda/lib/python3.7/site-packages/torch/utils/data/dataloader.py:481: UserWarning: This DataLoader will create 6 worker processes in total. Our suggested max number of worker in current system is 4, which is smaller than what this DataLoader is going to create. Please be aware that excessive worker creation might get DataLoader running slow or even freeze, lower the worker number to avoid potential slowness/freeze if necessary.\n",
      "  cpuset_checked))\n"
     ]
    },
    {
     "name": "stdout",
     "output_type": "stream",
     "text": [
      "Starting training\n",
      "Running on cuda\n",
      "Epoch: 0\n"
     ]
    },
    {
     "name": "stderr",
     "output_type": "stream",
     "text": [
      "Iterations, training: 100%|██████████| 2500/2500 [42:36<00:00,  1.02s/it]\n"
     ]
    },
    {
     "name": "stdout",
     "output_type": "stream",
     "text": [
      "\n",
      "Total loss: 13763.334493160248\n"
     ]
    },
    {
     "name": "stderr",
     "output_type": "stream",
     "text": [
      "Iterations, validation: 100%|██████████| 209/209 [01:13<00:00,  2.86it/s]\n"
     ]
    },
    {
     "name": "stdout",
     "output_type": "stream",
     "text": [
      "Loss: 1908.7819353342056\n",
      "Accuracy top 1: 0.01\n",
      "Accuracy top 5: 0.04\n",
      "Epoch: 1\n"
     ]
    },
    {
     "name": "stderr",
     "output_type": "stream",
     "text": [
      "Iterations, training: 100%|██████████| 2500/2500 [42:37<00:00,  1.02s/it]\n"
     ]
    },
    {
     "name": "stdout",
     "output_type": "stream",
     "text": [
      "\n",
      "Total loss: 11986.29741859436\n"
     ]
    },
    {
     "name": "stderr",
     "output_type": "stream",
     "text": [
      "Iterations, validation: 100%|██████████| 209/209 [01:12<00:00,  2.88it/s]\n"
     ]
    },
    {
     "name": "stdout",
     "output_type": "stream",
     "text": [
      "Loss: 1815.5031621456146\n",
      "Accuracy top 1: 0.01\n",
      "Accuracy top 5: 0.05\n",
      "Epoch: 2\n"
     ]
    },
    {
     "name": "stderr",
     "output_type": "stream",
     "text": [
      "Iterations, training: 100%|██████████| 2500/2500 [42:38<00:00,  1.02s/it]\n"
     ]
    },
    {
     "name": "stdout",
     "output_type": "stream",
     "text": [
      "\n",
      "Total loss: 11015.692905664444\n"
     ]
    },
    {
     "name": "stderr",
     "output_type": "stream",
     "text": [
      "Iterations, validation: 100%|██████████| 209/209 [01:12<00:00,  2.88it/s]\n"
     ]
    },
    {
     "name": "stdout",
     "output_type": "stream",
     "text": [
      "Loss: 1162.0723463892937\n",
      "Accuracy top 1: 0.04\n",
      "Accuracy top 5: 0.14\n",
      "Epoch: 3\n"
     ]
    },
    {
     "name": "stderr",
     "output_type": "stream",
     "text": [
      "Iterations, training: 100%|██████████| 2500/2500 [42:37<00:00,  1.02s/it]\n"
     ]
    },
    {
     "name": "stdout",
     "output_type": "stream",
     "text": [
      "\n",
      "Total loss: 10287.137187957764\n"
     ]
    },
    {
     "name": "stderr",
     "output_type": "stream",
     "text": [
      "Iterations, validation: 100%|██████████| 209/209 [01:12<00:00,  2.87it/s]\n"
     ]
    },
    {
     "name": "stdout",
     "output_type": "stream",
     "text": [
      "Loss: 892.6992478370667\n",
      "Accuracy top 1: 0.1\n",
      "Accuracy top 5: 0.28\n",
      "Epoch: 4\n"
     ]
    },
    {
     "name": "stderr",
     "output_type": "stream",
     "text": [
      "Iterations, training: 100%|██████████| 2500/2500 [42:37<00:00,  1.02s/it]\n"
     ]
    },
    {
     "name": "stdout",
     "output_type": "stream",
     "text": [
      "\n",
      "Total loss: 9821.701513528824\n"
     ]
    },
    {
     "name": "stderr",
     "output_type": "stream",
     "text": [
      "Iterations, validation: 100%|██████████| 209/209 [01:12<00:00,  2.88it/s]\n"
     ]
    },
    {
     "name": "stdout",
     "output_type": "stream",
     "text": [
      "Loss: 4832.785008311272\n",
      "Accuracy top 1: 0.02\n",
      "Accuracy top 5: 0.06\n",
      "Epoch: 5\n"
     ]
    },
    {
     "name": "stderr",
     "output_type": "stream",
     "text": [
      "Iterations, training: 100%|██████████| 2500/2500 [42:36<00:00,  1.02s/it]\n"
     ]
    },
    {
     "name": "stdout",
     "output_type": "stream",
     "text": [
      "\n",
      "Total loss: 8978.957314491272\n"
     ]
    },
    {
     "name": "stderr",
     "output_type": "stream",
     "text": [
      "Iterations, validation: 100%|██████████| 209/209 [01:12<00:00,  2.89it/s]\n"
     ]
    },
    {
     "name": "stdout",
     "output_type": "stream",
     "text": [
      "Loss: 738.5158153772354\n",
      "Accuracy top 1: 0.19\n",
      "Accuracy top 5: 0.46\n",
      "Epoch: 8\n"
     ]
    },
    {
     "name": "stderr",
     "output_type": "stream",
     "text": [
      "Iterations, training:  87%|████████▋ | 2185/2500 [37:14<05:22,  1.02s/it]IOPub message rate exceeded.\n",
      "The Jupyter server will temporarily stop sending output\n",
      "to the client in order to avoid crashing it.\n",
      "To change this limit, set the config variable\n",
      "`--ServerApp.iopub_msg_rate_limit`.\n",
      "\n",
      "Current values:\n",
      "ServerApp.iopub_msg_rate_limit=1000.0 (msgs/sec)\n",
      "ServerApp.rate_limit_window=3.0 (secs)\n",
      "\n",
      "Iterations, training: 100%|██████████| 2500/2500 [42:39<00:00,  1.02s/it]\n"
     ]
    },
    {
     "name": "stdout",
     "output_type": "stream",
     "text": [
      "\n",
      "Total loss: 8617.533745288849\n"
     ]
    },
    {
     "name": "stderr",
     "output_type": "stream",
     "text": [
      "Iterations, validation: 100%|██████████| 209/209 [01:12<00:00,  2.87it/s]\n"
     ]
    },
    {
     "name": "stdout",
     "output_type": "stream",
     "text": [
      "Loss: 701.3409087657928\n",
      "Accuracy top 1: 0.22\n",
      "Accuracy top 5: 0.49\n",
      "Mean:  [0.354]\n",
      "Std:  [0.1347]\n",
      "Loaded pretrained weights for efficientnet-b0\n",
      "/home/jupyter/cognitive/tiny-imagenet-200/train\n",
      "200\n",
      "100000\n",
      "/home/jupyter/cognitive/tiny-imagenet-200/val/images\n",
      "200\n",
      "10000\n",
      "Starting training\n",
      "Running on cuda\n",
      "Epoch: 0\n"
     ]
    },
    {
     "name": "stderr",
     "output_type": "stream",
     "text": [
      "Iterations, training: 100%|██████████| 2500/2500 [42:45<00:00,  1.03s/it]\n"
     ]
    },
    {
     "name": "stdout",
     "output_type": "stream",
     "text": [
      "\n",
      "Total loss: 11471.840086221695\n"
     ]
    },
    {
     "name": "stderr",
     "output_type": "stream",
     "text": [
      "Iterations, validation: 100%|██████████| 209/209 [01:12<00:00,  2.87it/s]\n"
     ]
    },
    {
     "name": "stdout",
     "output_type": "stream",
     "text": [
      "Loss: 1111.6021175384521\n",
      "Accuracy top 1: 0.06\n",
      "Accuracy top 5: 0.21\n",
      "Epoch: 1\n"
     ]
    },
    {
     "name": "stderr",
     "output_type": "stream",
     "text": [
      "Iterations, training: 100%|██████████| 2500/2500 [42:44<00:00,  1.03s/it]\n"
     ]
    },
    {
     "name": "stdout",
     "output_type": "stream",
     "text": [
      "\n",
      "Total loss: 9586.356922388077\n"
     ]
    },
    {
     "name": "stderr",
     "output_type": "stream",
     "text": [
      "Iterations, validation: 100%|██████████| 209/209 [01:12<00:00,  2.88it/s]\n"
     ]
    },
    {
     "name": "stdout",
     "output_type": "stream",
     "text": [
      "Loss: 927.1163073778152\n",
      "Accuracy top 1: 0.12\n",
      "Accuracy top 5: 0.32\n",
      "Epoch: 2\n"
     ]
    },
    {
     "name": "stderr",
     "output_type": "stream",
     "text": [
      "Iterations, training: 100%|██████████| 2500/2500 [42:43<00:00,  1.03s/it]\n"
     ]
    },
    {
     "name": "stdout",
     "output_type": "stream",
     "text": [
      "\n",
      "Total loss: 7686.727660179138\n"
     ]
    },
    {
     "name": "stderr",
     "output_type": "stream",
     "text": [
      "Iterations, validation: 100%|██████████| 209/209 [01:12<00:00,  2.88it/s]\n"
     ]
    },
    {
     "name": "stdout",
     "output_type": "stream",
     "text": [
      "Loss: 685.6968873143196\n",
      "Accuracy top 1: 0.27\n",
      "Accuracy top 5: 0.53\n",
      "Epoch: 5\n"
     ]
    },
    {
     "name": "stderr",
     "output_type": "stream",
     "text": [
      "Iterations, training: 100%|██████████| 2500/2500 [42:41<00:00,  1.02s/it]\n"
     ]
    },
    {
     "name": "stdout",
     "output_type": "stream",
     "text": [
      "\n",
      "Total loss: 6689.062597513199\n"
     ]
    },
    {
     "name": "stderr",
     "output_type": "stream",
     "text": [
      "Iterations, validation: 100%|██████████| 209/209 [01:12<00:00,  2.88it/s]\n"
     ]
    },
    {
     "name": "stdout",
     "output_type": "stream",
     "text": [
      "Loss: 640.1550294160843\n",
      "Accuracy top 1: 0.3\n",
      "Accuracy top 5: 0.57\n",
      "Epoch: 8\n"
     ]
    },
    {
     "name": "stderr",
     "output_type": "stream",
     "text": [
      "Iterations, training: 100%|██████████| 2500/2500 [42:42<00:00,  1.02s/it]\n"
     ]
    },
    {
     "name": "stdout",
     "output_type": "stream",
     "text": [
      "\n",
      "Total loss: 6416.954568147659\n"
     ]
    },
    {
     "name": "stderr",
     "output_type": "stream",
     "text": [
      "Iterations, validation: 100%|██████████| 209/209 [01:12<00:00,  2.88it/s]\n"
     ]
    },
    {
     "name": "stdout",
     "output_type": "stream",
     "text": [
      "Loss: 545.6022572517395\n",
      "Accuracy top 1: 0.38\n",
      "Accuracy top 5: 0.66\n",
      "Epoch: 9\n"
     ]
    },
    {
     "name": "stderr",
     "output_type": "stream",
     "text": [
      "Iterations, training:  69%|██████▉   | 1732/2500 [29:36<13:07,  1.03s/it]"
     ]
    }
   ],
   "source": [
    "experiment(\"efficientnet-b0\", 10, 0.1, 0.4, True, 0, True, 0.5, 0, 1)\n",
    "experiment(\"efficientnet-b0\", 10, 0.01, 0.4, True, 0, True, 0.5, 0, 1)\n"
   ]
  },
  {
   "cell_type": "code",
   "execution_count": 13,
   "metadata": {},
   "outputs": [
    {
     "name": "stdout",
     "output_type": "stream",
     "text": [
      "Loaded pretrained weights for efficientnet-b1\n"
     ]
    },
    {
     "ename": "AttributeError",
     "evalue": "'function' object has no attribute 'copy'",
     "output_type": "error",
     "traceback": [
      "\u001b[0;31m---------------------------------------------------------------------------\u001b[0m",
      "\u001b[0;31mAttributeError\u001b[0m                            Traceback (most recent call last)",
      "\u001b[0;32m/tmp/ipykernel_2996/2507362676.py\u001b[0m in \u001b[0;36m<module>\u001b[0;34m\u001b[0m\n\u001b[0;32m----> 1\u001b[0;31m \u001b[0mexperiment\u001b[0m\u001b[0;34m(\u001b[0m\u001b[0;34m\"efficientnet-b1\"\u001b[0m\u001b[0;34m,\u001b[0m \u001b[0;36m2\u001b[0m\u001b[0;34m,\u001b[0m \u001b[0;36m0.01\u001b[0m\u001b[0;34m,\u001b[0m \u001b[0;36m0.4\u001b[0m\u001b[0;34m,\u001b[0m \u001b[0;32mTrue\u001b[0m\u001b[0;34m,\u001b[0m \u001b[0;36m0\u001b[0m\u001b[0;34m,\u001b[0m \u001b[0;32mTrue\u001b[0m\u001b[0;34m,\u001b[0m \u001b[0;36m0.5\u001b[0m\u001b[0;34m,\u001b[0m \u001b[0;36m0\u001b[0m\u001b[0;34m,\u001b[0m \u001b[0;36m1\u001b[0m\u001b[0;34m)\u001b[0m\u001b[0;34m\u001b[0m\u001b[0;34m\u001b[0m\u001b[0m\n\u001b[0m",
      "\u001b[0;32m/tmp/ipykernel_2996/3218195914.py\u001b[0m in \u001b[0;36mexperiment\u001b[0;34m(model_type, epoch_count, learning_rate, dropout_rate, pretrained, warm_up, crop, horizontal_flip_rate, mixup, repetitions)\u001b[0m\n\u001b[1;32m     18\u001b[0m     \u001b[0mrandom\u001b[0m\u001b[0;34m.\u001b[0m\u001b[0mseed\u001b[0m\u001b[0;34m(\u001b[0m\u001b[0mrepetition\u001b[0m\u001b[0;34m)\u001b[0m\u001b[0;34m\u001b[0m\u001b[0;34m\u001b[0m\u001b[0m\n\u001b[1;32m     19\u001b[0m     \u001b[0mmodel\u001b[0m \u001b[0;34m=\u001b[0m \u001b[0mget_efficientnet\u001b[0m\u001b[0;34m(\u001b[0m\u001b[0mmodel_type\u001b[0m\u001b[0;34m,\u001b[0m \u001b[0mpretrained\u001b[0m\u001b[0;34m,\u001b[0m \u001b[0mdropout_rate\u001b[0m\u001b[0;34m)\u001b[0m\u001b[0;34m\u001b[0m\u001b[0;34m\u001b[0m\u001b[0m\n\u001b[0;32m---> 20\u001b[0;31m     \u001b[0mmodel\u001b[0m\u001b[0;34m.\u001b[0m\u001b[0mload_state_dict\u001b[0m\u001b[0;34m(\u001b[0m\u001b[0mtorch\u001b[0m\u001b[0;34m.\u001b[0m\u001b[0mload\u001b[0m\u001b[0;34m(\u001b[0m\u001b[0;34m\"/home/jupyter/cognitive/checkpoint.pth\"\u001b[0m\u001b[0;34m)\u001b[0m\u001b[0;34m)\u001b[0m\u001b[0;34m\u001b[0m\u001b[0;34m\u001b[0m\u001b[0m\n\u001b[0m\u001b[1;32m     21\u001b[0m     \u001b[0;32mwith\u001b[0m \u001b[0mopen\u001b[0m\u001b[0;34m(\u001b[0m\u001b[0mdataset_stats\u001b[0m\u001b[0;34m)\u001b[0m \u001b[0;32mas\u001b[0m \u001b[0mfp\u001b[0m\u001b[0;34m:\u001b[0m\u001b[0;34m\u001b[0m\u001b[0;34m\u001b[0m\u001b[0m\n\u001b[1;32m     22\u001b[0m       \u001b[0mstats\u001b[0m \u001b[0;34m=\u001b[0m \u001b[0mjson\u001b[0m\u001b[0;34m.\u001b[0m\u001b[0mload\u001b[0m\u001b[0;34m(\u001b[0m\u001b[0mfp\u001b[0m\u001b[0;34m=\u001b[0m\u001b[0mfp\u001b[0m\u001b[0;34m)\u001b[0m\u001b[0;34m\u001b[0m\u001b[0;34m\u001b[0m\u001b[0m\n",
      "\u001b[0;32m/opt/conda/lib/python3.7/site-packages/torch/nn/modules/module.py\u001b[0m in \u001b[0;36mload_state_dict\u001b[0;34m(self, state_dict, strict)\u001b[0m\n\u001b[1;32m   1453\u001b[0m         \u001b[0;31m# copy state_dict so _load_from_state_dict can modify it\u001b[0m\u001b[0;34m\u001b[0m\u001b[0;34m\u001b[0m\u001b[0;34m\u001b[0m\u001b[0m\n\u001b[1;32m   1454\u001b[0m         \u001b[0mmetadata\u001b[0m \u001b[0;34m=\u001b[0m \u001b[0mgetattr\u001b[0m\u001b[0;34m(\u001b[0m\u001b[0mstate_dict\u001b[0m\u001b[0;34m,\u001b[0m \u001b[0;34m'_metadata'\u001b[0m\u001b[0;34m,\u001b[0m \u001b[0;32mNone\u001b[0m\u001b[0;34m)\u001b[0m\u001b[0;34m\u001b[0m\u001b[0;34m\u001b[0m\u001b[0m\n\u001b[0;32m-> 1455\u001b[0;31m         \u001b[0mstate_dict\u001b[0m \u001b[0;34m=\u001b[0m \u001b[0mstate_dict\u001b[0m\u001b[0;34m.\u001b[0m\u001b[0mcopy\u001b[0m\u001b[0;34m(\u001b[0m\u001b[0;34m)\u001b[0m\u001b[0;34m\u001b[0m\u001b[0;34m\u001b[0m\u001b[0m\n\u001b[0m\u001b[1;32m   1456\u001b[0m         \u001b[0;32mif\u001b[0m \u001b[0mmetadata\u001b[0m \u001b[0;32mis\u001b[0m \u001b[0;32mnot\u001b[0m \u001b[0;32mNone\u001b[0m\u001b[0;34m:\u001b[0m\u001b[0;34m\u001b[0m\u001b[0;34m\u001b[0m\u001b[0m\n\u001b[1;32m   1457\u001b[0m             \u001b[0;31m# mypy isn't aware that \"_metadata\" exists in state_dict\u001b[0m\u001b[0;34m\u001b[0m\u001b[0;34m\u001b[0m\u001b[0;34m\u001b[0m\u001b[0m\n",
      "\u001b[0;31mAttributeError\u001b[0m: 'function' object has no attribute 'copy'"
     ]
    }
   ],
   "source": [
    "experiment(\"efficientnet-b1\", 2, 0.01, 0.4, True, 0, True, 0.5, 0, 1)\n"
   ]
  },
  {
   "cell_type": "code",
   "execution_count": null,
   "metadata": {},
   "outputs": [],
   "source": []
  }
 ],
 "metadata": {
  "accelerator": "GPU",
  "colab": {
   "collapsed_sections": [],
   "name": "main.ipynb",
   "provenance": []
  },
  "environment": {
   "kernel": "conda-root-py",
   "name": "pytorch-gpu.1-10.m90",
   "type": "gcloud",
   "uri": "gcr.io/deeplearning-platform-release/pytorch-gpu.1-10:m90"
  },
  "interpreter": {
   "hash": "c6e4e9f98eb68ad3b7c296f83d20e6de614cb42e90992a65aa266555a3137d0d"
  },
  "kernelspec": {
   "display_name": "Python [conda env:root] *",
   "language": "python",
   "name": "conda-root-py"
  },
  "language_info": {
   "codemirror_mode": {
    "name": "ipython",
    "version": 3
   },
   "file_extension": ".py",
   "mimetype": "text/x-python",
   "name": "python",
   "nbconvert_exporter": "python",
   "pygments_lexer": "ipython3",
   "version": "3.7.12"
  }
 },
 "nbformat": 4,
 "nbformat_minor": 4
}
